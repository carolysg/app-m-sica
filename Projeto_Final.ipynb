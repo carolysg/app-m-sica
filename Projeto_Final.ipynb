{
  "nbformat": 4,
  "nbformat_minor": 0,
  "metadata": {
    "colab": {
      "provenance": [],
      "include_colab_link": true
    },
    "kernelspec": {
      "name": "python3",
      "display_name": "Python 3"
    },
    "language_info": {
      "name": "python"
    }
  },
  "cells": [
    {
      "cell_type": "markdown",
      "metadata": {
        "id": "view-in-github",
        "colab_type": "text"
      },
      "source": [
        "<a href=\"https://colab.research.google.com/github/carolysg/app-musica/blob/main/Projeto_Final.ipynb\" target=\"_parent\"><img src=\"https://colab.research.google.com/assets/colab-badge.svg\" alt=\"Open In Colab\"/></a>"
      ]
    },
    {
      "cell_type": "markdown",
      "source": [
        "## Criando a base de dados inicial:\n",
        "1. Um dicionário com artistas, álbuns e músicas\n",
        "2. Um dicionário com as playlists\n",
        "\n",
        "Essa parte do código foi deixada para praticar a transformação de dicionários para arquivos JSON. "
      ],
      "metadata": {
        "id": "7o5-lqlB1gnM"
      }
    },
    {
      "cell_type": "code",
      "source": [
        "'''base_album = {'Hannah Montana': {'Forever': ['I\\'ll Always Remember You', 'Ordinary Girl']}, \n",
        "                 'Hilary Duff': {'Metamorphosis': ['Yesterday', 'Come Clean'], 'Most Wanted': ['Wake Up', 'Why Not', 'Fly']},\n",
        "              'Pink Floyd': {'The Dark Side of the Moon': ['Time', 'Money', 'Eclipse'], 'Wish You Were Here': ['Have a Cigar', 'Wish You Were Here'], 'The Wall': ['Mother', 'Hey You']},\n",
        "              'Maroon 5': {'V': ['Sugar', 'Animals'], 'Jordi': ['Memories', 'Seasons'], 'Songs About Jane': ['This Love', 'Sunday Morning']}}\n",
        "\n",
        "base_playlist = {'Férias': {'Hannah Montana': ['Ordinary Girl'], 'Hilary Duff': ['Yesterday', 'Fly']}, \n",
        "                 'Rock': {'Pink Floyd': ['Time', 'Hey You', 'Eclipse']}, \n",
        "                 'Viagens': {'Maroon 5': ['Sugar', 'Animals', 'This Love'], 'Pink Floyd': ['Money']}}\n",
        "\n",
        "import json \n",
        "\n",
        "album_json = json.dumps(base_album, ensure_ascii=False)\n",
        "with open('base_album.json', 'w', encoding='utf-8') as album:\n",
        "  album.write(album_json)\n",
        "\n",
        "playlist_json = json.dumps(base_playlist, ensure_ascii=False)\n",
        "with open('base_playlist.json', 'w', encoding='utf-8') as playlists:\n",
        "  playlists.write(playlist_json)'''"
      ],
      "metadata": {
        "id": "t-cOqxI5AKjh",
        "colab": {
          "base_uri": "https://localhost:8080/",
          "height": 122
        },
        "outputId": "80fd4189-a009-441b-abbd-408073e3ce82"
      },
      "execution_count": null,
      "outputs": [
        {
          "output_type": "execute_result",
          "data": {
            "text/plain": [
              "\"base_album = {'Hannah Montana': {'Forever': ['I'll Always Remember You', 'Ordinary Girl']}, \\n                 'Hilary Duff': {'Metamorphosis': ['Yesterday', 'Come Clean'], 'Most Wanted': ['Wake Up', 'Why Not', 'Fly']},\\n              'Pink Floyd': {'The Dark Side of the Moon': ['Time', 'Money', 'Eclipse'], 'Wish You Were Here': ['Have a Cigar', 'Wish You Were Here'], 'The Wall': ['Mother', 'Hey You']},\\n              'Maroon 5': {'V': ['Sugar', 'Animals'], 'Jordi': ['Memories', 'Seasons'], 'Songs About Jane': ['This Love', 'Sunday Morning']}}\\n\\nbase_playlist = {'Férias': {'Hannah Montana': ['Ordinary Girl'], 'Hilary Duff': ['Yesterday', 'Fly']}, \\n                 'Rock': {'Pink Floyd': ['Time', 'Hey You', 'Eclipse']}, \\n                 'Viagens': {'Maroon 5': ['Sugar', 'Animals', 'This Love'], 'Pink Floyd': ['Money']}}\\n\\nimport json \\n\\nalbum_json = json.dumps(base_album, ensure_ascii=False)\\nwith open('base_album.json', 'w', encoding='utf-8') as album:\\n  album.write(album_json)\\n\\nplaylist_json = json.dumps(base_playlist, ensure_ascii=False)\\nwith open('base_playlist.json', 'w', encoding='utf-8') as playlists:\\n  playlists.write(playlist_json)\""
            ],
            "application/vnd.google.colaboratory.intrinsic+json": {
              "type": "string"
            }
          },
          "metadata": {},
          "execution_count": 2
        }
      ]
    },
    {
      "cell_type": "markdown",
      "source": [
        "## Funções"
      ],
      "metadata": {
        "id": "reX1nvDD804-"
      }
    },
    {
      "cell_type": "markdown",
      "source": [
        "Função para abrir o arquivo JSON"
      ],
      "metadata": {
        "id": "2jH_tZF983ls"
      }
    },
    {
      "cell_type": "code",
      "source": [
        "def abrir_json(base):\n",
        "  \"\"\"\n",
        "  retorna um dicionário a partir do arquivo JSON base\n",
        "  \"\"\"\n",
        "  try:\n",
        "    with open(base, 'r') as arquivo:\n",
        "      conteudo = arquivo.read()\n",
        "      dicionario_base = json.loads(conteudo)\n",
        "      return dicionario_base\n",
        "  except FileNotFoundError:\n",
        "    with open(base, 'w') as arquivo:\n",
        "      dicionario_base = dict()\n",
        "      return dicionario_base\n",
        "  except Exception as e:\n",
        "    print(f\"Erro ao abrir arquivo: {e}\")"
      ],
      "metadata": {
        "id": "TFBbBLZibdt8"
      },
      "execution_count": null,
      "outputs": []
    },
    {
      "cell_type": "markdown",
      "source": [
        "Função para acessar o menu principal do aplicativo"
      ],
      "metadata": {
        "id": "Y-ji_B0N88SU"
      }
    },
    {
      "cell_type": "code",
      "source": [
        "def menu():\n",
        "  try:\n",
        "    opcao = int(input(\"\"\"Digite a opção desejada: \n",
        "                        1) Logar como administrador\n",
        "                        2) Logar como usuário\n",
        "                        3) Sair\n",
        "                      \"\"\"))\n",
        "    if opcao in [1, 2, 3]:\n",
        "      return opcao\n",
        "    else:\n",
        "      print('Opção inválida!')\n",
        "      return menu()\n",
        "  except ValueError:\n",
        "    print('Opção inválida! Deve ser um número inteiro.')\n",
        "    return menu()\n",
        "  except Exception as e:\n",
        "    print(f\"Erro ao escolher opção: {e}\")"
      ],
      "metadata": {
        "id": "sBo3pZwWtD4V"
      },
      "execution_count": null,
      "outputs": []
    },
    {
      "cell_type": "markdown",
      "source": [
        "Função para acessar o menu de admin"
      ],
      "metadata": {
        "id": "vWaX27mb9k5t"
      }
    },
    {
      "cell_type": "code",
      "source": [
        "def menu_admin():\n",
        "  try:\n",
        "    opcao = int(input(\"\"\"Digite a opção desejada: \n",
        "                       1) Registrar artista\n",
        "                       2) Registrar álbum\n",
        "                       3) Sair\n",
        "                    \"\"\"))\n",
        "    if opcao in [1, 2, 3]:\n",
        "      return opcao\n",
        "    else:\n",
        "      print('Opção inválida!')\n",
        "      return menu_admin()\n",
        "  except ValueError:\n",
        "    print('Opção inválida! Deve ser um número inteiro.')\n",
        "    return menu_admin()\n",
        "  except Exception as e:\n",
        "    print(f\"Erro ao escolher opção: {e}\")"
      ],
      "metadata": {
        "id": "PYMpHpwo9NOn"
      },
      "execution_count": null,
      "outputs": []
    },
    {
      "cell_type": "markdown",
      "source": [
        "Função para registrar artista (menu de admin)"
      ],
      "metadata": {
        "id": "s_KA4NPk92je"
      }
    },
    {
      "cell_type": "code",
      "source": [
        "def admin_artista(base):\n",
        "  try:\n",
        "    base_copia = base.copy()\n",
        "    artista = input('Digite o nome do artista: ')\n",
        "    if artista not in base_copia.keys():\n",
        "      base_copia[artista] = None\n",
        "      print('Artista cadastrado com sucesso!')\n",
        "    else:\n",
        "      print('Erro! Artista já cadastrado!')\n",
        "    print(f'Os artistas cadastrados são: {base_copia.keys()}')\n",
        "    return base_copia\n",
        "  except Exception as e:\n",
        "    print(f\"Erro ao cadastrar artista: {e}\")\n",
        "    return base"
      ],
      "metadata": {
        "id": "bjAfce5KthKc"
      },
      "execution_count": null,
      "outputs": []
    },
    {
      "cell_type": "markdown",
      "source": [
        "Função para registrar álbum (menu de admin)"
      ],
      "metadata": {
        "id": "fCHVwItw-1UI"
      }
    },
    {
      "cell_type": "code",
      "source": [
        "def admin_album(base):\n",
        "  try:\n",
        "    base_copia = base.copy()\n",
        "    artista = input('Digite o nome do artista: ')\n",
        "    if artista in base_copia.keys():\n",
        "      album = input('Qual o nome do álbum? ')\n",
        "      n_musicas = abs(int(input('Quantas músicas o álbum possui? ')))\n",
        "      musicas = [input(f'Digite o nome da música {musica+1} do álbum {album}: ') for musica in range(n_musicas)]\n",
        "      if base_copia[artista] == None:\n",
        "        base_copia[artista] = {album: musicas}\n",
        "      elif album in base_copia[artista].keys():\n",
        "        base_copia[artista][album] = list(set(base_copia[artista][album]) | set(musicas))\n",
        "      else:\n",
        "        base_copia[artista][album] = musicas\n",
        "    else:\n",
        "      print('Erro! Artista não cadastrado!')\n",
        "    print(f'Os álbuns cadastrados são: {base_copia}')\n",
        "    return base_copia\n",
        "  except:\n",
        "    print('Ocorreu um erro!')\n",
        "    return base"
      ],
      "metadata": {
        "id": "u6s6yhi2ttY5"
      },
      "execution_count": null,
      "outputs": []
    },
    {
      "cell_type": "markdown",
      "source": [
        "Função para acessar o menu de usuário"
      ],
      "metadata": {
        "id": "5q1PZnAD-6Ej"
      }
    },
    {
      "cell_type": "code",
      "source": [
        "def menu_usuario():\n",
        "  try:\n",
        "    opcao = int(input(\"\"\"Digite a opção desejada: \n",
        "                       1) Buscar playlist\n",
        "                       2) Criar playlist\n",
        "                       3) Sair\n",
        "                    \"\"\"))\n",
        "    if opcao not in [1, 2, 3]:\n",
        "      print('Opção inválida!')\n",
        "      menu_usuario()\n",
        "    return opcao\n",
        "  except ValueError as e:\n",
        "    print(f'Erro: {e}')\n",
        "    return menu_usuario()\n",
        "  except:\n",
        "    print('Erro inesperado!')\n",
        "    return menu_usuario()"
      ],
      "metadata": {
        "id": "Y2V2TmB_uq9s"
      },
      "execution_count": null,
      "outputs": []
    },
    {
      "cell_type": "markdown",
      "source": [
        "Função para buscar playlist (menu de usuário)"
      ],
      "metadata": {
        "id": "87xEIZ01--Z9"
      }
    },
    {
      "cell_type": "code",
      "source": [
        "def busca(base):\n",
        "  def usuario_buscar():\n",
        "    opcao = int(input(\"\"\"Digite a opção desejada para buscar a playlist: \n",
        "                        1) Buscar por música\n",
        "                        2) Buscar por artista\n",
        "                        3) Buscar por nome da playlist\n",
        "                        4) Sair\n",
        "                      \"\"\"))\n",
        "    if opcao in [1, 2, 3, 4]:\n",
        "      return opcao\n",
        "    else:\n",
        "      print('Opção inválida!')\n",
        "      return usuario_buscar()\n",
        "\n",
        "  while True:\n",
        "    try:\n",
        "      opcao = usuario_buscar()\n",
        "\n",
        "      if opcao == 1:\n",
        "        musica = input('Digite o nome da música: ')\n",
        "        retorno_playlists = [{playlist:base[playlist]} for playlist in base.keys() for artista, musicas in base[playlist].items() if musica in musicas]\n",
        "        if not retorno_playlists:\n",
        "          print('Erro! Não existem playlists com essa música!')\n",
        "        else:\n",
        "          print(retorno_playlists)\n",
        "          break\n",
        "\n",
        "      elif opcao == 2:\n",
        "        artista  = input('Digite o nome do artista: ')\n",
        "        retorno_playlists = [{playlist:base[playlist]} for playlist in base.keys() for artistas in base[playlist].keys() if artista in artistas]\n",
        "        if not retorno_playlists:\n",
        "          print('Erro! Não existem playlists com esse artista!')\n",
        "        else:\n",
        "          print(retorno_playlists)\n",
        "          break\n",
        "\n",
        "      elif opcao == 3:\n",
        "        nome_playlist = input('Digite o nome da playlist: ')\n",
        "        if nome_playlist in base.keys():\n",
        "          print(base[nome_playlist])\n",
        "          break\n",
        "        else:\n",
        "          print('Erro! Playlist não encontrada!')\n",
        "\n",
        "      elif opcao == 4:\n",
        "        break\n",
        "\n",
        "    except:\n",
        "      print('Opção inválida!')"
      ],
      "metadata": {
        "id": "bOKi739KO_V7"
      },
      "execution_count": null,
      "outputs": []
    },
    {
      "cell_type": "markdown",
      "source": [
        "Função para criar playlist (menu de usuário)"
      ],
      "metadata": {
        "id": "xzjP4kCy_cOa"
      }
    },
    {
      "cell_type": "code",
      "source": [
        "def criar_playlist(base_playlist, base_album):\n",
        "  def loop_criar_playlist():\n",
        "    try:\n",
        "      sair = int(input(\"\"\"Deseja adicionar outra música à sua playlist? \n",
        "                        1 - Sim\n",
        "                        2 - Não\n",
        "                        \"\"\"))\n",
        "      if sair == 1 or sair == 2:\n",
        "        return sair\n",
        "      else:\n",
        "        print('Opção inválida!')\n",
        "        return loop_criar_playlist()\n",
        "    except:\n",
        "      print('Opção inválida!')\n",
        "      return loop_criar_playlist()\n",
        "\n",
        "  base_playlist_copia = base_playlist.copy()\n",
        "  while True:\n",
        "    nome_playlist = input('Digite o nome da playlist a ser criada: ')\n",
        "    if nome_playlist in base_playlist_copia.keys():\n",
        "      print('Erro! Já existe uma playlist com esse nome!')\n",
        "    else:\n",
        "      base_playlist_copia[nome_playlist] = dict()\n",
        "      break\n",
        "\n",
        "  while True:\n",
        "    try:\n",
        "      artista = input('Digite o nome do artista: ')\n",
        "      album = input('Digite o nome do álbum: ')\n",
        "      musica = input('Digite o nome da música: ')\n",
        "      if artista not in base_album.keys() or album not in base_album[artista].keys() or musica not in base_album[artista][album]:\n",
        "        print('Erro! Música não encontrada!')\n",
        "      elif artista not in base_playlist_copia[nome_playlist].keys():\n",
        "        base_playlist_copia[nome_playlist][artista] = list()\n",
        "        base_playlist_copia[nome_playlist][artista].append(musica)\n",
        "      else:\n",
        "        if musica in base_playlist_copia[nome_playlist][artista]:\n",
        "          print('Essa música já está na playlist!')\n",
        "        else:\n",
        "          base_playlist_copia[nome_playlist][artista].append(musica)\n",
        "    except:\n",
        "      print('Opção inválida!')\n",
        "\n",
        "    sair = loop_criar_playlist()\n",
        "    if sair == 2:\n",
        "      break\n",
        "\n",
        "  return base_playlist_copia"
      ],
      "metadata": {
        "id": "H8dsrXFsPeDk"
      },
      "execution_count": null,
      "outputs": []
    },
    {
      "cell_type": "markdown",
      "source": [
        "Função para transformar dicionários em arquivos JSON e salvar"
      ],
      "metadata": {
        "id": "2mAFbY0_Fidj"
      }
    },
    {
      "cell_type": "code",
      "source": [
        "def salvar_json(dicionario, nome_json):\n",
        "  base = json.dumps(dicionario, ensure_ascii=False)\n",
        "  with open(nome_json, 'w', encoding='utf-8') as arquivo:\n",
        "    arquivo.write(base)"
      ],
      "metadata": {
        "id": "IZBAdqtMFtMf"
      },
      "execution_count": null,
      "outputs": []
    },
    {
      "cell_type": "markdown",
      "source": [
        "## Programa principal"
      ],
      "metadata": {
        "id": "qlxPg_lr_i6y"
      }
    },
    {
      "cell_type": "code",
      "source": [
        "import json\n",
        "base_album = abrir_json('base_album.json')\n",
        "base_playlist = abrir_json('base_playlist.json')\n",
        "base_album_copia = base_album.copy()\n",
        "base_playlist_copia = base_playlist.copy()\n",
        "\n",
        "while True:\n",
        "  resposta = menu()\n",
        "  if resposta == 1:\n",
        "    resposta_admin = menu_admin()\n",
        "    if resposta_admin == 1:\n",
        "      base_album_copia = admin_artista(base_album_copia)\n",
        "    elif resposta_admin == 2:\n",
        "      base_album_copia = admin_album(base_album_copia)\n",
        "    else:\n",
        "      break\n",
        "  elif resposta == 2:\n",
        "    resposta_usuario = menu_usuario()\n",
        "    if resposta_usuario == 1:\n",
        "      busca(base_playlist_copia)\n",
        "      break\n",
        "    elif resposta_usuario == 2:\n",
        "      base_playlist_copia = criar_playlist(base_playlist_copia, base_album_copia)\n",
        "    else:\n",
        "      break\n",
        "  else:\n",
        "    break\n",
        "\n",
        "salvar_json(base_album_copia, 'base_album.json')\n",
        "salvar_json(base_playlist_copia, 'base_playlist.json')"
      ],
      "metadata": {
        "colab": {
          "base_uri": "https://localhost:8080/"
        },
        "id": "nHCRgY_1yWbD",
        "outputId": "963fe1a0-3e7c-40f1-fe2a-02c09bb07e20"
      },
      "execution_count": null,
      "outputs": [
        {
          "name": "stdout",
          "output_type": "stream",
          "text": [
            "Digite a opção desejada: \n",
            "                        1) Logar como administrador\n",
            "                        2) Logar como usuário\n",
            "                        3) Sair\n",
            "                      3\n"
          ]
        }
      ]
    },
    {
      "cell_type": "code",
      "source": [],
      "metadata": {
        "id": "qke26s5xcc7Q"
      },
      "execution_count": null,
      "outputs": []
    }
  ]
}