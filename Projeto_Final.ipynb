{
  "nbformat": 4,
  "nbformat_minor": 0,
  "metadata": {
    "colab": {
      "provenance": [],
      "include_colab_link": true
    },
    "kernelspec": {
      "name": "python3",
      "display_name": "Python 3"
    },
    "language_info": {
      "name": "python"
    }
  },
  "cells": [
    {
      "cell_type": "markdown",
      "metadata": {
        "id": "view-in-github",
        "colab_type": "text"
      },
      "source": [
        "<a href=\"https://colab.research.google.com/github/carolysg/app-musica/blob/main/Projeto_Final.ipynb\" target=\"_parent\"><img src=\"https://colab.research.google.com/assets/colab-badge.svg\" alt=\"Open In Colab\"/></a>"
      ]
    },
    {
      "cell_type": "markdown",
      "source": [
        "# App de música\n",
        "\n",
        "Uma das formas mais populares de se escutar música atualmente possivelmente é através de aplicativos de streaming.\n",
        "\n",
        "Estes aplicativos se comunicam com bancos de dados contendo bibliotecas muito vastas de álbuns dos mais diversos artistas e gêneros.\n",
        "\n",
        "Um diferencial desses aplicativos costuma ser a possibilidade do usuário criar playlists: o usuário pode buscar por músicas de diferentes artistas, salvá-las em uma ordem específica e ouvi-las sempre que quiser.\n",
        "\n",
        "Vamos fazer um programa simulando um aplicativo de streaming. Ele terá uma base de dados de músicas, artistas, álbuns e playlists. Um administrador poderá salvar novos artistas, músicas e álbuns, enquanto um usuário comum poderá criar playlists.\n",
        "\n",
        "Segue uma breve descrição do que será feito.\n",
        "\n",
        "## 1. Fluxos\n",
        "\n",
        "Ao abrir o programa, ele deverá oferecer um menu com exatamente 3 opções: logar como usuário, logar como administrador ou sair.\n",
        "\n",
        "Não se preocupe com criar um sistema real de login ou senha no momento, apenas valide a opção digitada e siga para o próximo menu.\n",
        "\n",
        "### 1.1. Admin\n",
        "\n",
        "O menu de admin oferecerá 2 opções:\n",
        "- Registrar artista\n",
        "- Registrar álbum\n",
        "- Sair\n",
        "\n",
        "No primeiro caso, o admin irá digitar o nome de um novo artista. Caso o nome ainda não exista na base, ele será criado. Caso contrário, erro.\n",
        "\n",
        "No segundo caso, o admin deverá digitar primeiramente o artista - o artista precisa já existir.\n",
        "Em seguida o programa perguntará quantas músicas teremos e irá perguntar as informações de cada uma, uma por uma. O álbum deverá ser criado, e a estrutura **do artista** deve ser atualizada para contabilizar o álbum novo.\n",
        "\n",
        "### 1.2. Usuário\n",
        "\n",
        "O menu de usuário também oferecerá 2 opções:\n",
        "- Buscar playlist\n",
        "- Criar playlist\n",
        "- Sair\n",
        "\n",
        "Caso o usuário opte por buscar uma playlist, mais um menu será exibido:\n",
        "- Buscar por música\n",
        "- Buscar por artista\n",
        "- Buscar por nome\n",
        "\n",
        "Caso o usuário escolha a primeira opção, peça para ele digitar uma música e exiba todas as playlists contendo músicas com aquele nome. Adote um procedimento análogo para a busca de artista, e por fim, na última opção, apenas o nome da playlist será considerado. Se a playlist for encontrada, as informações completas dela deverão ser exibidas (todas as informações sobre todas as músicas da mesma).\n",
        "\n",
        "Caso o usuário opte por criar uma playlist, ele deverá primeiro digitar seu nome. Em seguida, deverá oferecer em loop para o usuário buscar - necessariamente nessa ordem - o artista, o álbum e a música. Sendo encontrada, a música será adicionada à playlist. Se em qualquer um dos níveis não for encontrado, informe o erro e torne a perguntar o artista. Quando o usuário sinalizar que finalizou, volte para o menu inicial de usuário.\n",
        "\n",
        "## 2. Dados\n",
        "\n",
        "O seu programa deverá ter **persistência** de dados. Isso significa que, ao fechar o programa, os dados (ex: novas playlists criadas) deverão ser salvas em um arquivo de modo que ao carregar novamente o programa, teremos os nossos dados preservados.\n",
        "\n",
        "Você deverá utilizar necessariamente os formatos `.json` ou `.csv` - utilize aquele que você preferir. Crie 3 arquivos: um para os artistas, um para os álbuns e um para as playlists.\n",
        "\n",
        "**Dicas:** \n",
        "\n",
        "  1) adote estruturas de dados adequadas para trabalhar com cada tipo de arquivo (dicionários para JSON, algum tipo de \"tabela\" para CSV).\n",
        "\n",
        "  2) você não precisa cadastrar tudo manualmente pelos seus menus para todos os seus testes. Defina a estrutura que você irá utilizar e já crie alguns artistas e álbuns para que você tenha como fazer buscas e testar novos cadastros. Isso irá facilitar muito a sua vida e economizar muito tempo!\n",
        "\n",
        "  3) se você ainda não estiver pronto para trabalhar com arquivos, crie as estruturas (lista de lista, tupla de tupla, lista de tupla etc ou dicionário) direto no código para que você possa ir desenvolvendo suas funcionalidades. Quando estiver pronto, trabalhe para adaptar seu programa para consumir/salvar os dados em arquivo.\n",
        "\n",
        "## 3. Treinando os conceitos do módulo\n",
        "\n",
        "Lembre-se que o objetivo desse trabalho é exercitar os conceitos do nosso módulo Lógica de Programação II (PY). Portanto, use e abuse dos conceitos que estudamos em sala de aula:\n",
        "- capriche na modularização em funções\n",
        "- pense com cuidado na **modelagem** dos seus dados utilizando as estruturas estudadas\n",
        "- faça bom uso de técnicas de programação funcional para fazer buscas, filtragens etc de maneira mais limpa e segura\n",
        "- use exceções para prever possíveis erros, principalmente na interação com os usuários\n",
        "\n",
        "## 4. Ajuda?\n",
        "\n",
        "Esse trabalho não é uma prova tradicional. Não tenha medo ou vergonha de pedir ajuda para o professor, para o monitor ou para colegas com os quais você se sinta confortável.\n",
        "\n",
        "Mas lembre-se de sempre mostrar o código com a sua tentativa para que possamos ajudá-lo a chegar à resposta certa, e fuja de copiar código pronto, especialmente código pronto que você não entende como funciona.\n",
        "\n",
        "## 5. Como enviar meu trabalho?\n",
        "Envie o seu notebook no tópico adequado no Class. "
      ],
      "metadata": {
        "id": "1CjZs08scNcY"
      }
    },
    {
      "cell_type": "markdown",
      "source": [
        "---"
      ],
      "metadata": {
        "id": "346B5jR27D5O"
      }
    },
    {
      "cell_type": "markdown",
      "source": [
        "## Criando a base de dados inicial:\n",
        "1. Um dicionário com artistas, álbuns e músicas\n",
        "2. Um dicionário com as playlists\n",
        "\n",
        "Essa parte do código foi deixada para praticar a transformação de dicionários para arquivos JSON. "
      ],
      "metadata": {
        "id": "7o5-lqlB1gnM"
      }
    },
    {
      "cell_type": "code",
      "source": [
        "'''base_album = {'Hannah Montana': {'Forever': ['I\\'ll Always Remember You', 'Ordinary Girl']}, \n",
        "                 'Hilary Duff': {'Metamorphosis': ['Yesterday', 'Come Clean'], 'Most Wanted': ['Wake Up', 'Why Not', 'Fly']},\n",
        "              'Pink Floyd': {'The Dark Side of the Moon': ['Time', 'Money', 'Eclipse'], 'Wish You Were Here': ['Have a Cigar', 'Wish You Were Here'], 'The Wall': ['Mother', 'Hey You']},\n",
        "              'Maroon 5': {'V': ['Sugar', 'Animals'], 'Jordi': ['Memories', 'Seasons'], 'Songs About Jane': ['This Love', 'Sunday Morning']}}\n",
        "\n",
        "base_playlist = {'Férias': {'Hannah Montana': ['Ordinary Girl'], 'Hilary Duff': ['Yesterday', 'Fly']}, \n",
        "                 'Rock': {'Pink Floyd': ['Time', 'Hey You', 'Eclipse']}, \n",
        "                 'Viagens': {'Maroon 5': ['Sugar', 'Animals', 'This Love'], 'Pink Floyd': ['Money']}}\n",
        "\n",
        "import json \n",
        "\n",
        "album_json = json.dumps(base_album, ensure_ascii=False)\n",
        "with open('base_album.json', 'w', encoding='utf-8') as album:\n",
        "  album.write(album_json)\n",
        "\n",
        "playlist_json = json.dumps(base_playlist, ensure_ascii=False)\n",
        "with open('base_playlist.json', 'w', encoding='utf-8') as playlists:\n",
        "  playlists.write(playlist_json)'''"
      ],
      "metadata": {
        "id": "t-cOqxI5AKjh",
        "colab": {
          "base_uri": "https://localhost:8080/",
          "height": 122
        },
        "outputId": "80fd4189-a009-441b-abbd-408073e3ce82"
      },
      "execution_count": null,
      "outputs": [
        {
          "output_type": "execute_result",
          "data": {
            "text/plain": [
              "\"base_album = {'Hannah Montana': {'Forever': ['I'll Always Remember You', 'Ordinary Girl']}, \\n                 'Hilary Duff': {'Metamorphosis': ['Yesterday', 'Come Clean'], 'Most Wanted': ['Wake Up', 'Why Not', 'Fly']},\\n              'Pink Floyd': {'The Dark Side of the Moon': ['Time', 'Money', 'Eclipse'], 'Wish You Were Here': ['Have a Cigar', 'Wish You Were Here'], 'The Wall': ['Mother', 'Hey You']},\\n              'Maroon 5': {'V': ['Sugar', 'Animals'], 'Jordi': ['Memories', 'Seasons'], 'Songs About Jane': ['This Love', 'Sunday Morning']}}\\n\\nbase_playlist = {'Férias': {'Hannah Montana': ['Ordinary Girl'], 'Hilary Duff': ['Yesterday', 'Fly']}, \\n                 'Rock': {'Pink Floyd': ['Time', 'Hey You', 'Eclipse']}, \\n                 'Viagens': {'Maroon 5': ['Sugar', 'Animals', 'This Love'], 'Pink Floyd': ['Money']}}\\n\\nimport json \\n\\nalbum_json = json.dumps(base_album, ensure_ascii=False)\\nwith open('base_album.json', 'w', encoding='utf-8') as album:\\n  album.write(album_json)\\n\\nplaylist_json = json.dumps(base_playlist, ensure_ascii=False)\\nwith open('base_playlist.json', 'w', encoding='utf-8') as playlists:\\n  playlists.write(playlist_json)\""
            ],
            "application/vnd.google.colaboratory.intrinsic+json": {
              "type": "string"
            }
          },
          "metadata": {},
          "execution_count": 2
        }
      ]
    },
    {
      "cell_type": "markdown",
      "source": [
        "## Funções"
      ],
      "metadata": {
        "id": "reX1nvDD804-"
      }
    },
    {
      "cell_type": "markdown",
      "source": [
        "Função para abrir o arquivo JSON"
      ],
      "metadata": {
        "id": "2jH_tZF983ls"
      }
    },
    {
      "cell_type": "code",
      "source": [
        "def abrir_json(base):\n",
        "  \"\"\"\n",
        "  retorna um dicionário a partir do arquivo JSON base\n",
        "  \"\"\"\n",
        "  try:\n",
        "    with open(base, 'r') as arquivo:\n",
        "      conteudo = arquivo.read()\n",
        "      dicionario_base = json.loads(conteudo)\n",
        "      return dicionario_base\n",
        "  except FileNotFoundError:\n",
        "    with open(base, 'w') as arquivo:\n",
        "      dicionario_base = dict()\n",
        "      return dicionario_base\n",
        "  except Exception as e:\n",
        "    print(f\"Erro ao abrir arquivo: {e}\")"
      ],
      "metadata": {
        "id": "TFBbBLZibdt8"
      },
      "execution_count": null,
      "outputs": []
    },
    {
      "cell_type": "markdown",
      "source": [
        "Função para acessar o menu principal do aplicativo"
      ],
      "metadata": {
        "id": "Y-ji_B0N88SU"
      }
    },
    {
      "cell_type": "code",
      "source": [
        "def menu():\n",
        "  try:\n",
        "    opcao = int(input(\"\"\"Digite a opção desejada: \n",
        "                        1) Logar como administrador\n",
        "                        2) Logar como usuário\n",
        "                        3) Sair\n",
        "                      \"\"\"))\n",
        "    if opcao in [1, 2, 3]:\n",
        "      return opcao\n",
        "    else:\n",
        "      print('Opção inválida!')\n",
        "      return menu()\n",
        "  except ValueError:\n",
        "    print('Opção inválida! Deve ser um número inteiro.')\n",
        "    return menu()\n",
        "  except Exception as e:\n",
        "    print(f\"Erro ao escolher opção: {e}\")"
      ],
      "metadata": {
        "id": "sBo3pZwWtD4V"
      },
      "execution_count": null,
      "outputs": []
    },
    {
      "cell_type": "markdown",
      "source": [
        "Função para acessar o menu de admin"
      ],
      "metadata": {
        "id": "vWaX27mb9k5t"
      }
    },
    {
      "cell_type": "code",
      "source": [
        "def menu_admin():\n",
        "  try:\n",
        "    opcao = int(input(\"\"\"Digite a opção desejada: \n",
        "                       1) Registrar artista\n",
        "                       2) Registrar álbum\n",
        "                       3) Sair\n",
        "                    \"\"\"))\n",
        "    if opcao in [1, 2, 3]:\n",
        "      return opcao\n",
        "    else:\n",
        "      print('Opção inválida!')\n",
        "      return menu_admin()\n",
        "  except ValueError:\n",
        "    print('Opção inválida! Deve ser um número inteiro.')\n",
        "    return menu_admin()\n",
        "  except Exception as e:\n",
        "    print(f\"Erro ao escolher opção: {e}\")"
      ],
      "metadata": {
        "id": "PYMpHpwo9NOn"
      },
      "execution_count": null,
      "outputs": []
    },
    {
      "cell_type": "markdown",
      "source": [
        "Função para registrar artista (menu de admin)"
      ],
      "metadata": {
        "id": "s_KA4NPk92je"
      }
    },
    {
      "cell_type": "code",
      "source": [
        "def admin_artista(base):\n",
        "  try:\n",
        "    base_copia = base.copy()\n",
        "    artista = input('Digite o nome do artista: ')\n",
        "    if artista not in base_copia.keys():\n",
        "      base_copia[artista] = None\n",
        "      print('Artista cadastrado com sucesso!')\n",
        "    else:\n",
        "      print('Erro! Artista já cadastrado!')\n",
        "    print(f'Os artistas cadastrados são: {base_copia.keys()}')\n",
        "    return base_copia\n",
        "  except Exception as e:\n",
        "    print(f\"Erro ao cadastrar artista: {e}\")\n",
        "    return base"
      ],
      "metadata": {
        "id": "bjAfce5KthKc"
      },
      "execution_count": null,
      "outputs": []
    },
    {
      "cell_type": "markdown",
      "source": [
        "Função para registrar álbum (menu de admin)"
      ],
      "metadata": {
        "id": "fCHVwItw-1UI"
      }
    },
    {
      "cell_type": "code",
      "source": [
        "def admin_album(base):\n",
        "  try:\n",
        "    base_copia = base.copy()\n",
        "    artista = input('Digite o nome do artista: ')\n",
        "    if artista in base_copia.keys():\n",
        "      album = input('Qual o nome do álbum? ')\n",
        "      n_musicas = abs(int(input('Quantas músicas o álbum possui? ')))\n",
        "      musicas = [input(f'Digite o nome da música {musica+1} do álbum {album}: ') for musica in range(n_musicas)]\n",
        "      if base_copia[artista] == None:\n",
        "        base_copia[artista] = {album: musicas}\n",
        "      elif album in base_copia[artista].keys():\n",
        "        base_copia[artista][album] = list(set(base_copia[artista][album]) | set(musicas))\n",
        "      else:\n",
        "        base_copia[artista][album] = musicas\n",
        "    else:\n",
        "      print('Erro! Artista não cadastrado!')\n",
        "    print(f'Os álbuns cadastrados são: {base_copia}')\n",
        "    return base_copia\n",
        "  except:\n",
        "    print('Ocorreu um erro!')\n",
        "    return base"
      ],
      "metadata": {
        "id": "u6s6yhi2ttY5"
      },
      "execution_count": null,
      "outputs": []
    },
    {
      "cell_type": "markdown",
      "source": [
        "Função para acessar o menu de usuário"
      ],
      "metadata": {
        "id": "5q1PZnAD-6Ej"
      }
    },
    {
      "cell_type": "code",
      "source": [
        "def menu_usuario():\n",
        "  try:\n",
        "    opcao = int(input(\"\"\"Digite a opção desejada: \n",
        "                       1) Buscar playlist\n",
        "                       2) Criar playlist\n",
        "                       3) Sair\n",
        "                    \"\"\"))\n",
        "    if opcao not in [1, 2, 3]:\n",
        "      print('Opção inválida!')\n",
        "      menu_usuario()\n",
        "    return opcao\n",
        "  except ValueError as e:\n",
        "    print(f'Erro: {e}')\n",
        "    return menu_usuario()\n",
        "  except:\n",
        "    print('Erro inesperado!')\n",
        "    return menu_usuario()"
      ],
      "metadata": {
        "id": "Y2V2TmB_uq9s"
      },
      "execution_count": null,
      "outputs": []
    },
    {
      "cell_type": "markdown",
      "source": [
        "Função para buscar playlist (menu de usuário)"
      ],
      "metadata": {
        "id": "87xEIZ01--Z9"
      }
    },
    {
      "cell_type": "code",
      "source": [
        "def busca(base):\n",
        "  def usuario_buscar():\n",
        "    opcao = int(input(\"\"\"Digite a opção desejada para buscar a playlist: \n",
        "                        1) Buscar por música\n",
        "                        2) Buscar por artista\n",
        "                        3) Buscar por nome da playlist\n",
        "                        4) Sair\n",
        "                      \"\"\"))\n",
        "    if opcao in [1, 2, 3, 4]:\n",
        "      return opcao\n",
        "    else:\n",
        "      print('Opção inválida!')\n",
        "      return usuario_buscar()\n",
        "\n",
        "  while True:\n",
        "    try:\n",
        "      opcao = usuario_buscar()\n",
        "\n",
        "      if opcao == 1:\n",
        "        musica = input('Digite o nome da música: ')\n",
        "        retorno_playlists = [{playlist:base[playlist]} for playlist in base.keys() for artista, musicas in base[playlist].items() if musica in musicas]\n",
        "        if not retorno_playlists:\n",
        "          print('Erro! Não existem playlists com essa música!')\n",
        "        else:\n",
        "          print(retorno_playlists)\n",
        "          break\n",
        "\n",
        "      elif opcao == 2:\n",
        "        artista  = input('Digite o nome do artista: ')\n",
        "        retorno_playlists = [{playlist:base[playlist]} for playlist in base.keys() for artistas in base[playlist].keys() if artista in artistas]\n",
        "        if not retorno_playlists:\n",
        "          print('Erro! Não existem playlists com esse artista!')\n",
        "        else:\n",
        "          print(retorno_playlists)\n",
        "          break\n",
        "\n",
        "      elif opcao == 3:\n",
        "        nome_playlist = input('Digite o nome da playlist: ')\n",
        "        if nome_playlist in base.keys():\n",
        "          print(base[nome_playlist])\n",
        "          break\n",
        "        else:\n",
        "          print('Erro! Playlist não encontrada!')\n",
        "\n",
        "      elif opcao == 4:\n",
        "        break\n",
        "\n",
        "    except:\n",
        "      print('Opção inválida!')"
      ],
      "metadata": {
        "id": "bOKi739KO_V7"
      },
      "execution_count": null,
      "outputs": []
    },
    {
      "cell_type": "markdown",
      "source": [
        "Função para criar playlist (menu de usuário)"
      ],
      "metadata": {
        "id": "xzjP4kCy_cOa"
      }
    },
    {
      "cell_type": "code",
      "source": [
        "def criar_playlist(base_playlist, base_album):\n",
        "  def loop_criar_playlist():\n",
        "    try:\n",
        "      sair = int(input(\"\"\"Deseja adicionar outra música à sua playlist? \n",
        "                        1 - Sim\n",
        "                        2 - Não\n",
        "                        \"\"\"))\n",
        "      if sair == 1 or sair == 2:\n",
        "        return sair\n",
        "      else:\n",
        "        print('Opção inválida!')\n",
        "        return loop_criar_playlist()\n",
        "    except:\n",
        "      print('Opção inválida!')\n",
        "      return loop_criar_playlist()\n",
        "\n",
        "  base_playlist_copia = base_playlist.copy()\n",
        "  while True:\n",
        "    nome_playlist = input('Digite o nome da playlist a ser criada: ')\n",
        "    if nome_playlist in base_playlist_copia.keys():\n",
        "      print('Erro! Já existe uma playlist com esse nome!')\n",
        "    else:\n",
        "      base_playlist_copia[nome_playlist] = dict()\n",
        "      break\n",
        "\n",
        "  while True:\n",
        "    try:\n",
        "      artista = input('Digite o nome do artista: ')\n",
        "      album = input('Digite o nome do álbum: ')\n",
        "      musica = input('Digite o nome da música: ')\n",
        "      if artista not in base_album.keys() or album not in base_album[artista].keys() or musica not in base_album[artista][album]:\n",
        "        print('Erro! Música não encontrada!')\n",
        "      elif artista not in base_playlist_copia[nome_playlist].keys():\n",
        "        base_playlist_copia[nome_playlist][artista] = list()\n",
        "        base_playlist_copia[nome_playlist][artista].append(musica)\n",
        "      else:\n",
        "        if musica in base_playlist_copia[nome_playlist][artista]:\n",
        "          print('Essa música já está na playlist!')\n",
        "        else:\n",
        "          base_playlist_copia[nome_playlist][artista].append(musica)\n",
        "    except:\n",
        "      print('Opção inválida!')\n",
        "\n",
        "    sair = loop_criar_playlist()\n",
        "    if sair == 2:\n",
        "      break\n",
        "\n",
        "  return base_playlist_copia"
      ],
      "metadata": {
        "id": "H8dsrXFsPeDk"
      },
      "execution_count": null,
      "outputs": []
    },
    {
      "cell_type": "markdown",
      "source": [
        "Função para transformar dicionários em arquivos JSON e salvar"
      ],
      "metadata": {
        "id": "2mAFbY0_Fidj"
      }
    },
    {
      "cell_type": "code",
      "source": [
        "def salvar_json(dicionario, nome_json):\n",
        "  base = json.dumps(dicionario, ensure_ascii=False)\n",
        "  with open(nome_json, 'w', encoding='utf-8') as arquivo:\n",
        "    arquivo.write(base)"
      ],
      "metadata": {
        "id": "IZBAdqtMFtMf"
      },
      "execution_count": null,
      "outputs": []
    },
    {
      "cell_type": "markdown",
      "source": [
        "## Programa principal"
      ],
      "metadata": {
        "id": "qlxPg_lr_i6y"
      }
    },
    {
      "cell_type": "code",
      "source": [
        "import json\n",
        "base_album = abrir_json('base_album.json')\n",
        "base_playlist = abrir_json('base_playlist.json')\n",
        "base_album_copia = base_album.copy()\n",
        "base_playlist_copia = base_playlist.copy()\n",
        "\n",
        "while True:\n",
        "  resposta = menu()\n",
        "  if resposta == 1:\n",
        "    resposta_admin = menu_admin()\n",
        "    if resposta_admin == 1:\n",
        "      base_album_copia = admin_artista(base_album_copia)\n",
        "    elif resposta_admin == 2:\n",
        "      base_album_copia = admin_album(base_album_copia)\n",
        "    else:\n",
        "      break\n",
        "  elif resposta == 2:\n",
        "    resposta_usuario = menu_usuario()\n",
        "    if resposta_usuario == 1:\n",
        "      busca(base_playlist_copia)\n",
        "      break\n",
        "    elif resposta_usuario == 2:\n",
        "      base_playlist_copia = criar_playlist(base_playlist_copia, base_album_copia)\n",
        "    else:\n",
        "      break\n",
        "  else:\n",
        "    break\n",
        "\n",
        "salvar_json(base_album_copia, 'base_album.json')\n",
        "salvar_json(base_playlist_copia, 'base_playlist.json')"
      ],
      "metadata": {
        "colab": {
          "base_uri": "https://localhost:8080/"
        },
        "id": "nHCRgY_1yWbD",
        "outputId": "963fe1a0-3e7c-40f1-fe2a-02c09bb07e20"
      },
      "execution_count": null,
      "outputs": [
        {
          "name": "stdout",
          "output_type": "stream",
          "text": [
            "Digite a opção desejada: \n",
            "                        1) Logar como administrador\n",
            "                        2) Logar como usuário\n",
            "                        3) Sair\n",
            "                      3\n"
          ]
        }
      ]
    },
    {
      "cell_type": "code",
      "source": [],
      "metadata": {
        "id": "qke26s5xcc7Q"
      },
      "execution_count": null,
      "outputs": []
    }
  ]
}